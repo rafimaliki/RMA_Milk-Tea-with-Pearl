{
 "cells": [
  {
   "cell_type": "code",
   "execution_count": 12,
   "metadata": {},
   "outputs": [],
   "source": [
    "import faker\n",
    "from faker import Faker\n",
    "import pandas as pd\n",
    "import random"
   ]
  },
  {
   "cell_type": "markdown",
   "metadata": {},
   "source": [
    "# TABEL PEGAWAI"
   ]
  },
  {
   "cell_type": "code",
   "execution_count": 13,
   "metadata": {},
   "outputs": [],
   "source": [
    "# fake username\n",
    "fake = Faker('id_ID')"
   ]
  },
  {
   "cell_type": "code",
   "execution_count": 14,
   "metadata": {},
   "outputs": [],
   "source": [
    "# generate random Id for employee\n",
    "\n",
    "def createPegawaiTable(n) :\n",
    "    arr = []\n",
    "    for i in range(n) :\n",
    "        element = {}\n",
    "        element['NIP'] = random.randint(1000000000, 9999999999)\n",
    "        element['Nama'] = fake.name()\n",
    "        element['Email'] = fake.email()\n",
    "        element['No_Telp'] = fake.phone_number()\n",
    "        element['Jabatan'] = fake.job()\n",
    "        if(i == 0) :\n",
    "            element['Atasan'] = ''\n",
    "        else :\n",
    "            # random dia punya atasan atau tidak\n",
    "            if(random.randint(0,1) == 0) :\n",
    "                # get Atasan from random element['Atasan']\n",
    "                element['Atasan'] = random.choice(arr)['NIP']\n",
    "            else :\n",
    "                element['Atasan'] = ''\n",
    "        \n",
    "        arr.append(element)\n",
    "    return pd.DataFrame(arr)\n"
   ]
  },
  {
   "cell_type": "code",
   "execution_count": 15,
   "metadata": {},
   "outputs": [
    {
     "data": {
      "text/html": [
       "<div>\n",
       "<style scoped>\n",
       "    .dataframe tbody tr th:only-of-type {\n",
       "        vertical-align: middle;\n",
       "    }\n",
       "\n",
       "    .dataframe tbody tr th {\n",
       "        vertical-align: top;\n",
       "    }\n",
       "\n",
       "    .dataframe thead th {\n",
       "        text-align: right;\n",
       "    }\n",
       "</style>\n",
       "<table border=\"1\" class=\"dataframe\">\n",
       "  <thead>\n",
       "    <tr style=\"text-align: right;\">\n",
       "      <th></th>\n",
       "      <th>NIP</th>\n",
       "      <th>Nama</th>\n",
       "      <th>Email</th>\n",
       "      <th>No_Telp</th>\n",
       "      <th>Jabatan</th>\n",
       "      <th>Atasan</th>\n",
       "    </tr>\n",
       "  </thead>\n",
       "  <tbody>\n",
       "    <tr>\n",
       "      <th>0</th>\n",
       "      <td>4440542179</td>\n",
       "      <td>Harsaya Anggraini, S.IP</td>\n",
       "      <td>laswi83@example.com</td>\n",
       "      <td>+62 (16) 829-6067</td>\n",
       "      <td>Politician's assistant</td>\n",
       "      <td></td>\n",
       "    </tr>\n",
       "    <tr>\n",
       "      <th>1</th>\n",
       "      <td>4649005878</td>\n",
       "      <td>Violet Thamrin</td>\n",
       "      <td>prasetyawulan@example.org</td>\n",
       "      <td>+62 (0586) 571-5313</td>\n",
       "      <td>Sport and exercise psychologist</td>\n",
       "      <td>4440542179</td>\n",
       "    </tr>\n",
       "    <tr>\n",
       "      <th>2</th>\n",
       "      <td>2044555402</td>\n",
       "      <td>Victoria Purnawati, M.Pd</td>\n",
       "      <td>rangganainggolan@example.com</td>\n",
       "      <td>+62 (018) 885-6830</td>\n",
       "      <td>Designer, jewellery</td>\n",
       "      <td>4649005878</td>\n",
       "    </tr>\n",
       "    <tr>\n",
       "      <th>3</th>\n",
       "      <td>3068847430</td>\n",
       "      <td>T. Reksa Tarihoran</td>\n",
       "      <td>utamatamba@example.net</td>\n",
       "      <td>(094) 666-9362</td>\n",
       "      <td>Editor, commissioning</td>\n",
       "      <td>4649005878</td>\n",
       "    </tr>\n",
       "    <tr>\n",
       "      <th>4</th>\n",
       "      <td>8415535654</td>\n",
       "      <td>Drs. Mutia Purnawati, S.T.</td>\n",
       "      <td>kasusra78@example.com</td>\n",
       "      <td>+62 (081) 422 7329</td>\n",
       "      <td>Database administrator</td>\n",
       "      <td>3068847430</td>\n",
       "    </tr>\n",
       "  </tbody>\n",
       "</table>\n",
       "</div>"
      ],
      "text/plain": [
       "          NIP                        Nama                         Email   \n",
       "0  4440542179     Harsaya Anggraini, S.IP           laswi83@example.com  \\\n",
       "1  4649005878              Violet Thamrin     prasetyawulan@example.org   \n",
       "2  2044555402    Victoria Purnawati, M.Pd  rangganainggolan@example.com   \n",
       "3  3068847430          T. Reksa Tarihoran        utamatamba@example.net   \n",
       "4  8415535654  Drs. Mutia Purnawati, S.T.         kasusra78@example.com   \n",
       "\n",
       "               No_Telp                          Jabatan      Atasan  \n",
       "0    +62 (16) 829-6067           Politician's assistant              \n",
       "1  +62 (0586) 571-5313  Sport and exercise psychologist  4440542179  \n",
       "2   +62 (018) 885-6830              Designer, jewellery  4649005878  \n",
       "3       (094) 666-9362            Editor, commissioning  4649005878  \n",
       "4   +62 (081) 422 7329           Database administrator  3068847430  "
      ]
     },
     "execution_count": 15,
     "metadata": {},
     "output_type": "execute_result"
    }
   ],
   "source": [
    "pegawai = createPegawaiTable(50)\n",
    "pegawai.head()"
   ]
  },
  {
   "cell_type": "code",
   "execution_count": 16,
   "metadata": {},
   "outputs": [],
   "source": [
    "# pegawai.to_csv('pegawai.csv', index=False)"
   ]
  }
 ],
 "metadata": {
  "kernelspec": {
   "display_name": "Python 3",
   "language": "python",
   "name": "python3"
  },
  "language_info": {
   "codemirror_mode": {
    "name": "ipython",
    "version": 3
   },
   "file_extension": ".py",
   "mimetype": "text/x-python",
   "name": "python",
   "nbconvert_exporter": "python",
   "pygments_lexer": "ipython3",
   "version": "3.11.0"
  }
 },
 "nbformat": 4,
 "nbformat_minor": 2
}
