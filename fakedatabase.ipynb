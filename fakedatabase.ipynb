{
 "cells": [
  {
   "cell_type": "code",
   "execution_count": 21,
   "metadata": {},
   "outputs": [],
   "source": [
    "import faker\n",
    "from faker import Faker\n",
    "import pandas as pd\n",
    "import random"
   ]
  },
  {
   "cell_type": "markdown",
   "metadata": {},
   "source": [
    "# TABEL PEGAWAI"
   ]
  },
  {
   "cell_type": "code",
   "execution_count": 22,
   "metadata": {},
   "outputs": [],
   "source": [
    "# fake username\n",
    "fake = Faker('id_ID')"
   ]
  },
  {
   "cell_type": "code",
   "execution_count": 23,
   "metadata": {},
   "outputs": [],
   "source": [
    "# generate random Id for employee\n",
    "\n",
    "def createPegawaiTable(n) :\n",
    "    arr = []\n",
    "    for i in range(n) :\n",
    "        element = {}\n",
    "        element['NIP'] = i+1\n",
    "        element['Nama'] = fake.name()\n",
    "        element['Email'] = fake.email()\n",
    "        element['No_Telp'] = fake.phone_number()\n",
    "        element['Jabatan'] = fake.job()\n",
    "        if(i == 0) :\n",
    "            element['Atasan'] = ''\n",
    "        else :\n",
    "            # random dia punya atasan atau tidak\n",
    "            if(random.randint(0,1) == 0) :\n",
    "                # get Atasan from random element['Atasan']\n",
    "                element['Atasan'] = random.choice(arr)['NIP']\n",
    "            else :\n",
    "                element['Atasan'] = ''\n",
    "        \n",
    "        arr.append(element)\n",
    "    return pd.DataFrame(arr)\n"
   ]
  },
  {
   "cell_type": "code",
   "execution_count": 24,
   "metadata": {},
   "outputs": [
    {
     "data": {
      "text/html": [
       "<div>\n",
       "<style scoped>\n",
       "    .dataframe tbody tr th:only-of-type {\n",
       "        vertical-align: middle;\n",
       "    }\n",
       "\n",
       "    .dataframe tbody tr th {\n",
       "        vertical-align: top;\n",
       "    }\n",
       "\n",
       "    .dataframe thead th {\n",
       "        text-align: right;\n",
       "    }\n",
       "</style>\n",
       "<table border=\"1\" class=\"dataframe\">\n",
       "  <thead>\n",
       "    <tr style=\"text-align: right;\">\n",
       "      <th></th>\n",
       "      <th>NIP</th>\n",
       "      <th>Nama</th>\n",
       "      <th>Email</th>\n",
       "      <th>No_Telp</th>\n",
       "      <th>Jabatan</th>\n",
       "      <th>Atasan</th>\n",
       "    </tr>\n",
       "  </thead>\n",
       "  <tbody>\n",
       "    <tr>\n",
       "      <th>0</th>\n",
       "      <td>1</td>\n",
       "      <td>R.A. Maimunah Fujiati, S.H.</td>\n",
       "      <td>fsudiati@example.org</td>\n",
       "      <td>+62-64-071-5464</td>\n",
       "      <td>Accountant, chartered certified</td>\n",
       "      <td></td>\n",
       "    </tr>\n",
       "    <tr>\n",
       "      <th>1</th>\n",
       "      <td>2</td>\n",
       "      <td>Tgk. Victoria Pertiwi</td>\n",
       "      <td>uwaismartani@example.net</td>\n",
       "      <td>+62 (0579) 364 9069</td>\n",
       "      <td>Scientist, audiological</td>\n",
       "      <td></td>\n",
       "    </tr>\n",
       "    <tr>\n",
       "      <th>2</th>\n",
       "      <td>3</td>\n",
       "      <td>Rika Kuswandari, M.Pd</td>\n",
       "      <td>nashiruddinkartika@example.net</td>\n",
       "      <td>+62-89-952-8290</td>\n",
       "      <td>Glass blower/designer</td>\n",
       "      <td></td>\n",
       "    </tr>\n",
       "    <tr>\n",
       "      <th>3</th>\n",
       "      <td>4</td>\n",
       "      <td>Malika Nuraini, S.H.</td>\n",
       "      <td>upik53@example.net</td>\n",
       "      <td>+62 (0885) 640 1170</td>\n",
       "      <td>Equities trader</td>\n",
       "      <td></td>\n",
       "    </tr>\n",
       "    <tr>\n",
       "      <th>4</th>\n",
       "      <td>5</td>\n",
       "      <td>Tri Nasyidah, M.M.</td>\n",
       "      <td>hamzah34@example.com</td>\n",
       "      <td>+62-96-256-8462</td>\n",
       "      <td>Surveyor, insurance</td>\n",
       "      <td>3</td>\n",
       "    </tr>\n",
       "  </tbody>\n",
       "</table>\n",
       "</div>"
      ],
      "text/plain": [
       "   NIP                         Nama                           Email   \n",
       "0    1  R.A. Maimunah Fujiati, S.H.            fsudiati@example.org  \\\n",
       "1    2        Tgk. Victoria Pertiwi        uwaismartani@example.net   \n",
       "2    3        Rika Kuswandari, M.Pd  nashiruddinkartika@example.net   \n",
       "3    4         Malika Nuraini, S.H.              upik53@example.net   \n",
       "4    5           Tri Nasyidah, M.M.            hamzah34@example.com   \n",
       "\n",
       "               No_Telp                          Jabatan Atasan  \n",
       "0      +62-64-071-5464  Accountant, chartered certified         \n",
       "1  +62 (0579) 364 9069          Scientist, audiological         \n",
       "2      +62-89-952-8290            Glass blower/designer         \n",
       "3  +62 (0885) 640 1170                  Equities trader         \n",
       "4      +62-96-256-8462              Surveyor, insurance      3  "
      ]
     },
     "execution_count": 24,
     "metadata": {},
     "output_type": "execute_result"
    }
   ],
   "source": [
    "pegawai = createPegawaiTable(100)\n",
    "pegawai.head()"
   ]
  },
  {
   "cell_type": "code",
   "execution_count": 25,
   "metadata": {},
   "outputs": [],
   "source": [
    "pegawai.to_csv('pegawai.csv', index=False)"
   ]
  },
  {
   "cell_type": "code",
   "execution_count": 26,
   "metadata": {},
   "outputs": [],
   "source": [
    "def insertPelayanan() :\n",
    "    arr = []\n",
    "    for i in range(100) :\n",
    "        element = {}\n",
    "        element['NIP'] = random.randint(1,100)\n",
    "        element['ID_Peminjaman'] = random.randint(1,100)\n",
    "        element['NIK'] = random.randint(1,50) \n",
    "        arr.append(element)\n",
    "    return pd.DataFrame(arr)\n",
    "\n",
    "pelayanan = insertPelayanan()\n",
    "pelayanan.head()\n",
    "# save to .txt file\n",
    "pelayanan.to_csv('pelayanan.csv', index=False)"
   ]
  }
 ],
 "metadata": {
  "kernelspec": {
   "display_name": "Python 3",
   "language": "python",
   "name": "python3"
  },
  "language_info": {
   "codemirror_mode": {
    "name": "ipython",
    "version": 3
   },
   "file_extension": ".py",
   "mimetype": "text/x-python",
   "name": "python",
   "nbconvert_exporter": "python",
   "pygments_lexer": "ipython3",
   "version": "3.11.0"
  }
 },
 "nbformat": 4,
 "nbformat_minor": 2
}
